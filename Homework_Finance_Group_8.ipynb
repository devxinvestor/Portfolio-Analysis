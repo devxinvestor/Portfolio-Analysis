{
 "cells": [
  {
   "cell_type": "code",
   "execution_count": 257,
   "id": "deb1d1dc-5d5a-42a5-b29b-6a01fdc755a2",
   "metadata": {},
   "outputs": [],
   "source": [
    "import pandas as pd\n",
    "import numpy as np\n",
    "from scipy import stats\n",
    "import matplotlib.pyplot as plt\n",
    "import statsmodels.api as sm"
   ]
  },
  {
   "cell_type": "code",
   "execution_count": 258,
   "id": "6af0fa89-2999-46d7-9a39-6f51c0b314e5",
   "metadata": {},
   "outputs": [],
   "source": [
    "factors=pd.read_csv(\"factors.csv\")"
   ]
  },
  {
   "cell_type": "code",
   "execution_count": 259,
   "id": "eb786019-c593-42f2-bf8d-1859b59c9bc0",
   "metadata": {},
   "outputs": [],
   "source": [
    "returns=pd.read_csv(\"returns_8.csv\")"
   ]
  },
  {
   "cell_type": "code",
   "execution_count": 184,
   "id": "7c6cf7e7-2b33-4919-b047-942b7a41a898",
   "metadata": {},
   "outputs": [],
   "source": [
    "combined=factors.merge(returns)"
   ]
  },
  {
   "cell_type": "code",
   "execution_count": 185,
   "id": "a7cbf7e6-4d87-437f-82ca-0d738a26b432",
   "metadata": {},
   "outputs": [
    {
     "data": {
      "text/html": [
       "<div>\n",
       "<style scoped>\n",
       "    .dataframe tbody tr th:only-of-type {\n",
       "        vertical-align: middle;\n",
       "    }\n",
       "\n",
       "    .dataframe tbody tr th {\n",
       "        vertical-align: top;\n",
       "    }\n",
       "\n",
       "    .dataframe thead th {\n",
       "        text-align: right;\n",
       "    }\n",
       "</style>\n",
       "<table border=\"1\" class=\"dataframe\">\n",
       "  <thead>\n",
       "    <tr style=\"text-align: right;\">\n",
       "      <th></th>\n",
       "      <th>Date</th>\n",
       "      <th>Mkt-RF</th>\n",
       "      <th>SMB</th>\n",
       "      <th>HML</th>\n",
       "      <th>RMW</th>\n",
       "      <th>CMA</th>\n",
       "      <th>RF</th>\n",
       "      <th>IntMom_01</th>\n",
       "      <th>IntMom_02</th>\n",
       "      <th>IntMom_03</th>\n",
       "      <th>IntMom_04</th>\n",
       "      <th>IntMom_05</th>\n",
       "      <th>IntMom_06</th>\n",
       "      <th>IntMom_07</th>\n",
       "      <th>IntMom_08</th>\n",
       "      <th>IntMom_09</th>\n",
       "      <th>IntMom_10</th>\n",
       "    </tr>\n",
       "  </thead>\n",
       "  <tbody>\n",
       "    <tr>\n",
       "      <th>0</th>\n",
       "      <td>199001</td>\n",
       "      <td>-7.85</td>\n",
       "      <td>-1.31</td>\n",
       "      <td>0.85</td>\n",
       "      <td>-1.17</td>\n",
       "      <td>1.35</td>\n",
       "      <td>0.57</td>\n",
       "      <td>-1.365152</td>\n",
       "      <td>-4.362190</td>\n",
       "      <td>-0.721379</td>\n",
       "      <td>-6.325426</td>\n",
       "      <td>-5.583326</td>\n",
       "      <td>-7.136756</td>\n",
       "      <td>-7.309728</td>\n",
       "      <td>-8.097236</td>\n",
       "      <td>-9.285199</td>\n",
       "      <td>-13.121355</td>\n",
       "    </tr>\n",
       "    <tr>\n",
       "      <th>1</th>\n",
       "      <td>199002</td>\n",
       "      <td>1.11</td>\n",
       "      <td>1.17</td>\n",
       "      <td>0.64</td>\n",
       "      <td>-0.03</td>\n",
       "      <td>-0.66</td>\n",
       "      <td>0.57</td>\n",
       "      <td>4.449781</td>\n",
       "      <td>3.741826</td>\n",
       "      <td>3.429381</td>\n",
       "      <td>1.746593</td>\n",
       "      <td>0.982492</td>\n",
       "      <td>1.152197</td>\n",
       "      <td>1.252377</td>\n",
       "      <td>0.957659</td>\n",
       "      <td>1.749563</td>\n",
       "      <td>4.826167</td>\n",
       "    </tr>\n",
       "    <tr>\n",
       "      <th>2</th>\n",
       "      <td>199003</td>\n",
       "      <td>1.83</td>\n",
       "      <td>1.62</td>\n",
       "      <td>-2.92</td>\n",
       "      <td>2.04</td>\n",
       "      <td>-1.02</td>\n",
       "      <td>0.64</td>\n",
       "      <td>2.846218</td>\n",
       "      <td>2.039761</td>\n",
       "      <td>3.322193</td>\n",
       "      <td>2.164587</td>\n",
       "      <td>1.446742</td>\n",
       "      <td>1.145412</td>\n",
       "      <td>2.252182</td>\n",
       "      <td>2.495515</td>\n",
       "      <td>3.971113</td>\n",
       "      <td>4.153076</td>\n",
       "    </tr>\n",
       "    <tr>\n",
       "      <th>3</th>\n",
       "      <td>199004</td>\n",
       "      <td>-3.36</td>\n",
       "      <td>-0.33</td>\n",
       "      <td>-2.59</td>\n",
       "      <td>1.78</td>\n",
       "      <td>-0.98</td>\n",
       "      <td>0.69</td>\n",
       "      <td>-7.405680</td>\n",
       "      <td>-5.455301</td>\n",
       "      <td>-4.138029</td>\n",
       "      <td>-1.410098</td>\n",
       "      <td>-4.576751</td>\n",
       "      <td>-3.215523</td>\n",
       "      <td>-3.749317</td>\n",
       "      <td>-2.711928</td>\n",
       "      <td>-2.024952</td>\n",
       "      <td>-0.798161</td>\n",
       "    </tr>\n",
       "    <tr>\n",
       "      <th>4</th>\n",
       "      <td>199005</td>\n",
       "      <td>8.42</td>\n",
       "      <td>-2.35</td>\n",
       "      <td>-3.83</td>\n",
       "      <td>1.57</td>\n",
       "      <td>-1.68</td>\n",
       "      <td>0.68</td>\n",
       "      <td>4.047648</td>\n",
       "      <td>4.474529</td>\n",
       "      <td>8.699535</td>\n",
       "      <td>8.107325</td>\n",
       "      <td>7.347819</td>\n",
       "      <td>7.575799</td>\n",
       "      <td>8.600898</td>\n",
       "      <td>9.999686</td>\n",
       "      <td>10.354542</td>\n",
       "      <td>13.279710</td>\n",
       "    </tr>\n",
       "    <tr>\n",
       "      <th>...</th>\n",
       "      <td>...</td>\n",
       "      <td>...</td>\n",
       "      <td>...</td>\n",
       "      <td>...</td>\n",
       "      <td>...</td>\n",
       "      <td>...</td>\n",
       "      <td>...</td>\n",
       "      <td>...</td>\n",
       "      <td>...</td>\n",
       "      <td>...</td>\n",
       "      <td>...</td>\n",
       "      <td>...</td>\n",
       "      <td>...</td>\n",
       "      <td>...</td>\n",
       "      <td>...</td>\n",
       "      <td>...</td>\n",
       "      <td>...</td>\n",
       "    </tr>\n",
       "    <tr>\n",
       "      <th>379</th>\n",
       "      <td>202108</td>\n",
       "      <td>2.91</td>\n",
       "      <td>-0.67</td>\n",
       "      <td>-0.16</td>\n",
       "      <td>-0.30</td>\n",
       "      <td>-1.76</td>\n",
       "      <td>0.00</td>\n",
       "      <td>5.718954</td>\n",
       "      <td>-0.448233</td>\n",
       "      <td>2.999977</td>\n",
       "      <td>1.627937</td>\n",
       "      <td>3.885119</td>\n",
       "      <td>2.942159</td>\n",
       "      <td>4.297470</td>\n",
       "      <td>1.287458</td>\n",
       "      <td>2.058386</td>\n",
       "      <td>2.255471</td>\n",
       "    </tr>\n",
       "    <tr>\n",
       "      <th>380</th>\n",
       "      <td>202109</td>\n",
       "      <td>-4.37</td>\n",
       "      <td>1.14</td>\n",
       "      <td>5.08</td>\n",
       "      <td>-1.90</td>\n",
       "      <td>2.14</td>\n",
       "      <td>0.00</td>\n",
       "      <td>-3.862641</td>\n",
       "      <td>-4.833552</td>\n",
       "      <td>-3.821461</td>\n",
       "      <td>-5.166485</td>\n",
       "      <td>-5.362004</td>\n",
       "      <td>-1.724156</td>\n",
       "      <td>-5.401501</td>\n",
       "      <td>-2.749050</td>\n",
       "      <td>-3.286938</td>\n",
       "      <td>-0.643447</td>\n",
       "    </tr>\n",
       "    <tr>\n",
       "      <th>381</th>\n",
       "      <td>202110</td>\n",
       "      <td>6.65</td>\n",
       "      <td>-2.70</td>\n",
       "      <td>-0.48</td>\n",
       "      <td>1.68</td>\n",
       "      <td>-1.44</td>\n",
       "      <td>0.00</td>\n",
       "      <td>3.138732</td>\n",
       "      <td>7.750708</td>\n",
       "      <td>7.168847</td>\n",
       "      <td>4.983029</td>\n",
       "      <td>7.229328</td>\n",
       "      <td>12.437463</td>\n",
       "      <td>5.270997</td>\n",
       "      <td>5.638759</td>\n",
       "      <td>5.162061</td>\n",
       "      <td>2.606859</td>\n",
       "    </tr>\n",
       "    <tr>\n",
       "      <th>382</th>\n",
       "      <td>202111</td>\n",
       "      <td>-1.55</td>\n",
       "      <td>-1.76</td>\n",
       "      <td>-0.44</td>\n",
       "      <td>7.22</td>\n",
       "      <td>1.74</td>\n",
       "      <td>0.00</td>\n",
       "      <td>-6.005078</td>\n",
       "      <td>2.644463</td>\n",
       "      <td>-1.842152</td>\n",
       "      <td>-3.460075</td>\n",
       "      <td>-3.843861</td>\n",
       "      <td>-4.376231</td>\n",
       "      <td>-3.532777</td>\n",
       "      <td>-2.485075</td>\n",
       "      <td>-3.398999</td>\n",
       "      <td>-1.120843</td>\n",
       "    </tr>\n",
       "    <tr>\n",
       "      <th>383</th>\n",
       "      <td>202112</td>\n",
       "      <td>3.10</td>\n",
       "      <td>-0.77</td>\n",
       "      <td>3.28</td>\n",
       "      <td>4.92</td>\n",
       "      <td>4.43</td>\n",
       "      <td>0.01</td>\n",
       "      <td>-1.241885</td>\n",
       "      <td>3.178961</td>\n",
       "      <td>1.740572</td>\n",
       "      <td>5.086868</td>\n",
       "      <td>7.237123</td>\n",
       "      <td>4.705182</td>\n",
       "      <td>2.805670</td>\n",
       "      <td>0.264697</td>\n",
       "      <td>1.887636</td>\n",
       "      <td>-7.554210</td>\n",
       "    </tr>\n",
       "  </tbody>\n",
       "</table>\n",
       "<p>384 rows × 17 columns</p>\n",
       "</div>"
      ],
      "text/plain": [
       "       Date  Mkt-RF   SMB   HML   RMW   CMA    RF  IntMom_01  IntMom_02  \\\n",
       "0    199001   -7.85 -1.31  0.85 -1.17  1.35  0.57  -1.365152  -4.362190   \n",
       "1    199002    1.11  1.17  0.64 -0.03 -0.66  0.57   4.449781   3.741826   \n",
       "2    199003    1.83  1.62 -2.92  2.04 -1.02  0.64   2.846218   2.039761   \n",
       "3    199004   -3.36 -0.33 -2.59  1.78 -0.98  0.69  -7.405680  -5.455301   \n",
       "4    199005    8.42 -2.35 -3.83  1.57 -1.68  0.68   4.047648   4.474529   \n",
       "..      ...     ...   ...   ...   ...   ...   ...        ...        ...   \n",
       "379  202108    2.91 -0.67 -0.16 -0.30 -1.76  0.00   5.718954  -0.448233   \n",
       "380  202109   -4.37  1.14  5.08 -1.90  2.14  0.00  -3.862641  -4.833552   \n",
       "381  202110    6.65 -2.70 -0.48  1.68 -1.44  0.00   3.138732   7.750708   \n",
       "382  202111   -1.55 -1.76 -0.44  7.22  1.74  0.00  -6.005078   2.644463   \n",
       "383  202112    3.10 -0.77  3.28  4.92  4.43  0.01  -1.241885   3.178961   \n",
       "\n",
       "     IntMom_03  IntMom_04  IntMom_05  IntMom_06  IntMom_07  IntMom_08  \\\n",
       "0    -0.721379  -6.325426  -5.583326  -7.136756  -7.309728  -8.097236   \n",
       "1     3.429381   1.746593   0.982492   1.152197   1.252377   0.957659   \n",
       "2     3.322193   2.164587   1.446742   1.145412   2.252182   2.495515   \n",
       "3    -4.138029  -1.410098  -4.576751  -3.215523  -3.749317  -2.711928   \n",
       "4     8.699535   8.107325   7.347819   7.575799   8.600898   9.999686   \n",
       "..         ...        ...        ...        ...        ...        ...   \n",
       "379   2.999977   1.627937   3.885119   2.942159   4.297470   1.287458   \n",
       "380  -3.821461  -5.166485  -5.362004  -1.724156  -5.401501  -2.749050   \n",
       "381   7.168847   4.983029   7.229328  12.437463   5.270997   5.638759   \n",
       "382  -1.842152  -3.460075  -3.843861  -4.376231  -3.532777  -2.485075   \n",
       "383   1.740572   5.086868   7.237123   4.705182   2.805670   0.264697   \n",
       "\n",
       "     IntMom_09  IntMom_10  \n",
       "0    -9.285199 -13.121355  \n",
       "1     1.749563   4.826167  \n",
       "2     3.971113   4.153076  \n",
       "3    -2.024952  -0.798161  \n",
       "4    10.354542  13.279710  \n",
       "..         ...        ...  \n",
       "379   2.058386   2.255471  \n",
       "380  -3.286938  -0.643447  \n",
       "381   5.162061   2.606859  \n",
       "382  -3.398999  -1.120843  \n",
       "383   1.887636  -7.554210  \n",
       "\n",
       "[384 rows x 17 columns]"
      ]
     },
     "execution_count": 185,
     "metadata": {},
     "output_type": "execute_result"
    }
   ],
   "source": [
    "combined"
   ]
  },
  {
   "cell_type": "code",
   "execution_count": 186,
   "id": "f93c0e75-166a-4555-8c2c-e6093a7212cf",
   "metadata": {},
   "outputs": [],
   "source": [
    "first_half=combined.iloc[:180]"
   ]
  },
  {
   "cell_type": "code",
   "execution_count": 187,
   "id": "7f19433a-6a31-4d5e-bf33-b805293429a3",
   "metadata": {},
   "outputs": [],
   "source": [
    "second_half=combined.iloc[180:]"
   ]
  },
  {
   "cell_type": "code",
   "execution_count": 188,
   "id": "f55db7b3-2e7b-46ec-a74d-7bc9210844e2",
   "metadata": {},
   "outputs": [],
   "source": [
    "first_capm = pd.DataFrame()\n",
    "second_capm = pd.DataFrame()\n",
    "first_multifactor = pd.DataFrame()\n",
    "second_multifactor = pd.DataFrame()\n",
    "statistical_significance_CAPM = {\"first\": None, \"second\": None}\n",
    "statistical_significance_MultiFactor = {\"first\": None, \"second\": None}"
   ]
  },
  {
   "cell_type": "code",
   "execution_count": 189,
   "id": "90f2a338",
   "metadata": {},
   "outputs": [],
   "source": [
    "def CAPMRegression(half, num_tickers):\n",
    "    if num_tickers > 10:\n",
    "        print(\"Please enter a number from 1 to 10 for tickers\")\n",
    "        return\n",
    "    if half == \"first\":\n",
    "        time = first_half\n",
    "        print(\"First Half: CAPM Regression\\n\")\n",
    "    elif half == \"second\":\n",
    "        time = second_half\n",
    "        print(\"Second Half: CAPM Regression\\n\")\n",
    "    else:\n",
    "        print(f'Please input half as \"first\" or \"second\"')\n",
    "        return\n",
    "        \n",
    "    alpha_array, beta_array, t_alpha_array, t_beta_array, p_value_array = [], [], [], [], []\n",
    "    \n",
    "    significance = 0\n",
    "    \n",
    "    for i in range(1, num_tickers + 1):\n",
    "        ticker = f\"IntMom_{i:02}\"\n",
    "        excess_returns = time[ticker] - time['RF']\n",
    "        market_premium = sm.add_constant(time['Mkt-RF'])\n",
    "\n",
    "        model = sm.OLS(excess_returns, market_premium).fit()\n",
    "\n",
    "        alpha, beta = model.params\n",
    "        t_alpha, t_beta = model.tvalues\n",
    "\n",
    "        p_values = model.pvalues.iloc[0]\n",
    "\n",
    "        if p_values < 0.05:\n",
    "            significance += 1\n",
    "\n",
    "        alpha_array.append(alpha)\n",
    "        beta_array.append(beta)\n",
    "        t_alpha_array.append(t_alpha)\n",
    "        t_beta_array.append(t_beta)\n",
    "        p_value_array.append(p_values)\n",
    "\n",
    "        print(f\"Alpha for {ticker} is: {alpha}, Beta for {ticker} is: {beta}, P-value for {ticker} is {p_values}.\")\n",
    "            \n",
    "    statistical_significance_CAPM[half] = float(significance / num_tickers)\n",
    "\n",
    "    if half == \"first\":\n",
    "        first_capm['Alpha'] = alpha_array\n",
    "        first_capm['Beta'] = beta_array\n",
    "        first_capm['T_Alpha'] = t_alpha_array\n",
    "        first_capm['T_Beta'] = t_beta_array\n",
    "        first_capm['P_Value'] = p_value_array\n",
    "    if half == \"second\":\n",
    "        second_capm['Alpha'] = alpha_array\n",
    "        second_capm['Beta'] = beta_array\n",
    "        second_capm['T_Alpha'] = t_alpha_array\n",
    "        second_capm['T_Beta'] = t_beta_array\n",
    "        second_capm['P_Value'] = p_value_array"
   ]
  },
  {
   "cell_type": "code",
   "execution_count": 190,
   "id": "ca401e62",
   "metadata": {},
   "outputs": [],
   "source": [
    "def MultiFactorRegression(half, num_tickers):\n",
    "    if num_tickers > 10:\n",
    "        print(\"Please enter a number from 1 to 10 for tickers\")\n",
    "        return\n",
    "    if half == \"first\":\n",
    "        time = first_half\n",
    "        multifactor = first_multifactor\n",
    "        print(\"First Half: Multi-Factor Regression\\n\")\n",
    "    elif half == \"second\":\n",
    "        time = second_half\n",
    "        multifactor = second_multifactor\n",
    "        print(\"Second Half: Multi-Factor Regression\\n\")\n",
    "    else:\n",
    "        print(f'Please input half as \"first\" or \"second\"')\n",
    "        return\n",
    "    significance = 0\n",
    "\n",
    "    alpha_array, beta1_array, beta2_array, beta3_array, beta4_array, beta5_array, t_alpha_array = [], [], [], [], [], [] ,[]\n",
    "    t_beta1_array, t_beta2_array, t_beta3_array, t_beta4_array, t_beta5_array, p_value_array = [], [], [], [], [], []\n",
    "    \n",
    "    for i in range(1, num_tickers + 1):\n",
    "        ticker = f\"IntMom_{i:02}\"\n",
    "        excess_returns = time[ticker] - time['RF']\n",
    "        independent_vars = sm.add_constant(time[['Mkt-RF', 'HML', 'SMB', 'RMW', 'CMA']])\n",
    "        \n",
    "        model = sm.OLS(excess_returns, independent_vars).fit()\n",
    "        \n",
    "        alpha = model.params.iloc[0]\n",
    "        betas = model.params.iloc[1:]\n",
    "\n",
    "        t_alpha, t_beta1, t_beta2, t_beta3, t_beta4, t_beta5 = model.tvalues\n",
    "        \n",
    "        p_value = model.pvalues.iloc[0]\n",
    "\n",
    "        if p_value < 0.05:\n",
    "            significance += 1\n",
    "        \n",
    "        alpha_array.append(alpha)\n",
    "        \n",
    "        beta1_array.append(betas.iloc[0])\n",
    "        beta2_array.append(betas.iloc[1])\n",
    "        beta3_array.append(betas.iloc[2])\n",
    "        beta4_array.append(betas.iloc[3])\n",
    "        beta5_array.append(betas.iloc[4])\n",
    "\n",
    "        t_alpha_array.append(t_alpha)\n",
    "        t_beta1_array.append(t_beta1)\n",
    "        t_beta2_array.append(t_beta2)\n",
    "        t_beta3_array.append(t_beta3)\n",
    "        t_beta4_array.append(t_beta4)\n",
    "        t_beta5_array.append(t_beta5)\n",
    "\n",
    "        p_value_array.append(p_value)\n",
    " \n",
    "        print(f\"Alpha for {ticker} is: {alpha}.\")\n",
    "        for j, beta in enumerate(betas, start=1):\n",
    "            print(f\"Beta {j} is: {beta}.\")\n",
    "        print(f\"P-value is: {p_value}\\n\")\n",
    "        \n",
    "    statistical_significance_MultiFactor[half] = float(significance / num_tickers)\n",
    "\n",
    "    if half == \"first\":\n",
    "        first_multifactor['Alpha'] = alpha_array\n",
    "        first_multifactor['Beta1'] = beta1_array\n",
    "        first_multifactor['Beta2'] = beta2_array\n",
    "        first_multifactor['Beta3'] = beta3_array\n",
    "        first_multifactor['Beta4'] = beta4_array\n",
    "        first_multifactor['Beta5'] = beta5_array\n",
    "        first_multifactor['T_Alpha'] = t_alpha_array\n",
    "        first_multifactor['T_Beta1'] = t_beta1_array\n",
    "        first_multifactor['T_Beta2'] = t_beta2_array\n",
    "        first_multifactor['T_Beta3'] = t_beta3_array\n",
    "        first_multifactor['T_Beta4'] = t_beta4_array\n",
    "        first_multifactor['T_Beta5'] = t_beta5_array\n",
    "        first_multifactor['P_Value'] = p_value_array\n",
    "    if half == \"second\":\n",
    "        second_multifactor['Alpha'] = alpha_array\n",
    "        second_multifactor['Beta1'] = beta1_array\n",
    "        second_multifactor['Beta2'] = beta2_array\n",
    "        second_multifactor['Beta3'] = beta3_array\n",
    "        second_multifactor['Beta4'] = beta4_array\n",
    "        second_multifactor['Beta5'] = beta5_array\n",
    "        second_multifactor['T_Alpha'] = t_alpha_array\n",
    "        second_multifactor['T_Beta1'] = t_beta1_array\n",
    "        second_multifactor['T_Beta2'] = t_beta2_array\n",
    "        second_multifactor['T_Beta3'] = t_beta3_array\n",
    "        second_multifactor['T_Beta4'] = t_beta4_array\n",
    "        second_multifactor['T_Beta5'] = t_beta5_array\n",
    "        second_multifactor['P_Value'] = p_value_array"
   ]
  },
  {
   "cell_type": "markdown",
   "id": "75473411-2c04-48cf-80e5-85c895f3370b",
   "metadata": {},
   "source": [
    "# Regression Analysis"
   ]
  },
  {
   "cell_type": "code",
   "execution_count": 191,
   "id": "3eeb8c3d-8895-4775-aa94-7e170d4f00b7",
   "metadata": {},
   "outputs": [
    {
     "name": "stdout",
     "output_type": "stream",
     "text": [
      "First Half: CAPM Regression\n",
      "\n",
      "Alpha for IntMom_01 is: -0.8091933855421238, Beta for IntMom_01 is: 1.5090600596581882, P-value for IntMom_01 is 0.08730324598088161.\n",
      "Alpha for IntMom_02 is: -0.340704408541087, Beta for IntMom_02 is: 1.1567989136887742, P-value for IntMom_02 is 0.274234502907365.\n",
      "Alpha for IntMom_03 is: -0.24689510634610484, Beta for IntMom_03 is: 0.9871231174531123, P-value for IntMom_03 is 0.2999701414230717.\n",
      "Alpha for IntMom_04 is: -0.39865604391737774, Beta for IntMom_04 is: 0.9572587801626609, P-value for IntMom_04 is 0.03313612814686138.\n",
      "Alpha for IntMom_05 is: 0.0026179540782839406, Beta for IntMom_05 is: 0.8172731872805608, P-value for IntMom_05 is 0.9874179081986266.\n",
      "Alpha for IntMom_06 is: -0.06075828350207685, Beta for IntMom_06 is: 0.828554018278285, P-value for IntMom_06 is 0.6792938972261446.\n",
      "Alpha for IntMom_07 is: 0.12455709760438843, Beta for IntMom_07 is: 0.8520375492963562, P-value for IntMom_07 is 0.3853861909611225.\n",
      "Alpha for IntMom_08 is: 0.10812569447001139, Beta for IntMom_08 is: 1.0070142917852274, P-value for IntMom_08 is 0.4432871285827459.\n",
      "Alpha for IntMom_09 is: 0.1631202410929652, Beta for IntMom_09 is: 1.1288268839289324, P-value for IntMom_09 is 0.3891434452418039.\n",
      "Alpha for IntMom_10 is: 0.18623478298705873, Beta for IntMom_10 is: 1.5010653664628575, P-value for IntMom_10 is 0.5831857843265625.\n"
     ]
    }
   ],
   "source": [
    "CAPMRegression(\"first\", 10)"
   ]
  },
  {
   "cell_type": "code",
   "execution_count": 192,
   "id": "0c4add84-1f00-4640-9926-fc74f2dccaa3",
   "metadata": {},
   "outputs": [
    {
     "name": "stdout",
     "output_type": "stream",
     "text": [
      "Second Half: CAPM Regression\n",
      "\n",
      "Alpha for IntMom_01 is: -1.2249227531365627, Beta for IntMom_01 is: 1.657126715027962, P-value for IntMom_01 is 0.0002638883681027542.\n",
      "Alpha for IntMom_02 is: -0.26323817484567824, Beta for IntMom_02 is: 1.282546503460247, P-value for IntMom_02 is 0.2751274701879558.\n",
      "Alpha for IntMom_03 is: -0.14939104603897047, Beta for IntMom_03 is: 1.249321730915843, P-value for IntMom_03 is 0.44198041762285134.\n",
      "Alpha for IntMom_04 is: -0.043725883256669484, Beta for IntMom_04 is: 1.0796137987082046, P-value for IntMom_04 is 0.7434353488200502.\n",
      "Alpha for IntMom_05 is: -0.11640361691854005, Beta for IntMom_05 is: 1.1014460747732584, P-value for IntMom_05 is 0.31081813208781867.\n",
      "Alpha for IntMom_06 is: 0.019996195171652367, Beta for IntMom_06 is: 1.0353738847806089, P-value for IntMom_06 is 0.8232474410079004.\n",
      "Alpha for IntMom_07 is: 0.01948687289446594, Beta for IntMom_07 is: 0.9306222440154989, P-value for IntMom_07 is 0.8038425983651357.\n",
      "Alpha for IntMom_08 is: 0.01692190611810432, Beta for IntMom_08 is: 0.9865701722599893, P-value for IntMom_08 is 0.8549692421440096.\n",
      "Alpha for IntMom_09 is: 0.08279369257467839, Beta for IntMom_09 is: 0.9981044994182076, P-value for IntMom_09 is 0.5663575371891844.\n",
      "Alpha for IntMom_10 is: -0.1804439815018729, Beta for IntMom_10 is: 1.2301260633055762, P-value for IntMom_10 is 0.46154218366872846.\n"
     ]
    }
   ],
   "source": [
    "CAPMRegression(\"second\", 10)"
   ]
  },
  {
   "cell_type": "code",
   "execution_count": 193,
   "id": "a75f8632-4faa-4bb6-bcc7-3c888873b8ea",
   "metadata": {},
   "outputs": [
    {
     "name": "stdout",
     "output_type": "stream",
     "text": [
      "First Half: Multi-Factor Regression\n",
      "\n",
      "Alpha for IntMom_01 is: -0.5828632766293723.\n",
      "Beta 1 is: 1.2603032803410361.\n",
      "Beta 2 is: 0.4738370121905269.\n",
      "Beta 3 is: 0.6998848519975845.\n",
      "Beta 4 is: -0.5766859149852095.\n",
      "Beta 5 is: -0.5129610116378444.\n",
      "P-value is: 0.18050046471723807\n",
      "\n",
      "Alpha for IntMom_02 is: -0.44842821674366923.\n",
      "Beta 1 is: 1.1498020683976526.\n",
      "Beta 2 is: 0.481309766003302.\n",
      "Beta 3 is: 0.3620190618672876.\n",
      "Beta 4 is: -0.06199182098278728.\n",
      "Beta 5 is: -0.3877630999493219.\n",
      "P-value is: 0.1595067071522748\n",
      "\n",
      "Alpha for IntMom_03 is: -0.5383259776686495.\n",
      "Beta 1 is: 1.105064850829883.\n",
      "Beta 2 is: 0.37207283656308004.\n",
      "Beta 3 is: 0.21507971995207598.\n",
      "Beta 4 is: 0.21769039546424676.\n",
      "Beta 5 is: -0.20560027467441455.\n",
      "P-value is: 0.024923261998408705\n",
      "\n",
      "Alpha for IntMom_04 is: -0.570305464094584.\n",
      "Beta 1 is: 1.043143357687421.\n",
      "Beta 2 is: 0.4336007512221328.\n",
      "Beta 3 is: 0.04594007157546253.\n",
      "Beta 4 is: 0.06365696910476756.\n",
      "Beta 5 is: -0.2568388939362313.\n",
      "P-value is: 0.0018816753471595524\n",
      "\n",
      "Alpha for IntMom_05 is: -0.33656685588048985.\n",
      "Beta 1 is: 0.991224271962083.\n",
      "Beta 2 is: 0.33726738655696653.\n",
      "Beta 3 is: 0.05004662956726548.\n",
      "Beta 4 is: 0.216477570418683.\n",
      "Beta 5 is: -0.029944392771211054.\n",
      "P-value is: 0.02031772867117784\n",
      "\n",
      "Alpha for IntMom_06 is: -0.35353950285210756.\n",
      "Beta 1 is: 0.989912551463737.\n",
      "Beta 2 is: 0.181690000950212.\n",
      "Beta 3 is: -0.020277938294937008.\n",
      "Beta 4 is: 0.26203499813047576.\n",
      "Beta 5 is: 0.03258938475982867.\n",
      "P-value is: 0.00539496202199527\n",
      "\n",
      "Alpha for IntMom_07 is: -0.17013223292364169.\n",
      "Beta 1 is: 1.0194767870986774.\n",
      "Beta 2 is: 0.05254881682197517.\n",
      "Beta 3 is: -0.0523094009529168.\n",
      "Beta 4 is: 0.2215438558435266.\n",
      "Beta 5 is: 0.22959989714657325.\n",
      "P-value is: 0.19187648654953832\n",
      "\n",
      "Alpha for IntMom_08 is: 0.04295746184312714.\n",
      "Beta 1 is: 1.0482615370390733.\n",
      "Beta 2 is: -0.09089056373345958.\n",
      "Beta 3 is: -0.03822342174844759.\n",
      "Beta 4 is: -0.007134603611743966.\n",
      "Beta 5 is: 0.23074965794748337.\n",
      "P-value is: 0.7748320982272409\n",
      "\n",
      "Alpha for IntMom_09 is: 0.42043617268465616.\n",
      "Beta 1 is: 0.9764538685761073.\n",
      "Beta 2 is: -0.19811383600758736.\n",
      "Beta 3 is: 0.07334152074746182.\n",
      "Beta 4 is: -0.18501047402013135.\n",
      "Beta 5 is: -0.05412629723019139.\n",
      "P-value is: 0.02203440226116354\n",
      "\n",
      "Alpha for IntMom_10 is: 0.7446201143197302.\n",
      "Beta 1 is: 1.1343662968942752.\n",
      "Beta 2 is: -0.34415045766738284.\n",
      "Beta 3 is: 0.3548496040465452.\n",
      "Beta 4 is: -0.4847714983993341.\n",
      "Beta 5 is: -0.18524497165681725.\n",
      "P-value is: 0.006201098452467058\n",
      "\n"
     ]
    }
   ],
   "source": [
    "MultiFactorRegression(\"first\", 10)"
   ]
  },
  {
   "cell_type": "code",
   "execution_count": 194,
   "id": "ff183467-260f-40a1-b4d3-73e74ac576e1",
   "metadata": {},
   "outputs": [
    {
     "name": "stdout",
     "output_type": "stream",
     "text": [
      "Second Half: Multi-Factor Regression\n",
      "\n",
      "Alpha for IntMom_01 is: -0.8642195809129395.\n",
      "Beta 1 is: 1.432424328754406.\n",
      "Beta 2 is: 0.27047986736335583.\n",
      "Beta 3 is: 0.6000377233380179.\n",
      "Beta 4 is: -0.45481582677499344.\n",
      "Beta 5 is: 0.05521407791867172.\n",
      "P-value is: 0.005218114130215246\n",
      "\n",
      "Alpha for IntMom_02 is: -0.10064404237035919.\n",
      "Beta 1 is: 1.162150487627101.\n",
      "Beta 2 is: 0.23029411476334272.\n",
      "Beta 3 is: 0.31517144548706455.\n",
      "Beta 4 is: -0.10534994789980373.\n",
      "Beta 5 is: 0.04365017631070145.\n",
      "P-value is: 0.669502393790717\n",
      "\n",
      "Alpha for IntMom_03 is: 0.03105292086940906.\n",
      "Beta 1 is: 1.129830290502353.\n",
      "Beta 2 is: 0.4452789609618374.\n",
      "Beta 3 is: 0.16785622536574213.\n",
      "Beta 4 is: -0.018960374169828625.\n",
      "Beta 5 is: -0.14276392949772682.\n",
      "P-value is: 0.8604606861027211\n",
      "\n",
      "Alpha for IntMom_04 is: 0.05051457800340226.\n",
      "Beta 1 is: 1.0317145055003292.\n",
      "Beta 2 is: 0.28145913278088946.\n",
      "Beta 3 is: 0.004200267344144949.\n",
      "Beta 4 is: -0.012851196847495416.\n",
      "Beta 5 is: 0.0029375150996410124.\n",
      "P-value is: 0.6884620672063915\n",
      "\n",
      "Alpha for IntMom_05 is: -0.054982951704235374.\n",
      "Beta 1 is: 1.10334187356337.\n",
      "Beta 2 is: 0.19278604196394322.\n",
      "Beta 3 is: -0.16203547225285406.\n",
      "Beta 4 is: -0.06576799185361426.\n",
      "Beta 5 is: 0.007045550016220592.\n",
      "P-value is: 0.6248221523280229\n",
      "\n",
      "Alpha for IntMom_06 is: 0.06833945615881007.\n",
      "Beta 1 is: 1.013681477068002.\n",
      "Beta 2 is: 0.14802920560482172.\n",
      "Beta 3 is: -0.02398097446961696.\n",
      "Beta 4 is: -0.004973770156457287.\n",
      "Beta 5 is: -0.0796796182184712.\n",
      "P-value is: 0.44650487900469293\n",
      "\n",
      "Alpha for IntMom_07 is: 0.028415485961443235.\n",
      "Beta 1 is: 0.9264975766325559.\n",
      "Beta 2 is: -0.011644318276542893.\n",
      "Beta 3 is: 0.016583659482041033.\n",
      "Beta 4 is: -0.024988452662740752.\n",
      "Beta 5 is: 0.002538588480012441.\n",
      "P-value is: 0.7289795309581839\n",
      "\n",
      "Alpha for IntMom_08 is: -0.01287682868105889.\n",
      "Beta 1 is: 0.9875266241596014.\n",
      "Beta 2 is: -0.0716929019991478.\n",
      "Beta 3 is: 0.048725454685075886.\n",
      "Beta 4 is: 0.0463341802790701.\n",
      "Beta 5 is: -0.08558312308309289.\n",
      "P-value is: 0.891663481293873\n",
      "\n",
      "Alpha for IntMom_09 is: 0.04123489462573966.\n",
      "Beta 1 is: 1.0123995319375931.\n",
      "Beta 2 is: -0.24224019234910105.\n",
      "Beta 3 is: 0.07862267369422486.\n",
      "Beta 4 is: -0.04814618975551227.\n",
      "Beta 5 is: -0.06314853264850484.\n",
      "P-value is: 0.7696279101127973\n",
      "\n",
      "Alpha for IntMom_10 is: -0.16099939270313457.\n",
      "Beta 1 is: 1.1905925530170172.\n",
      "Beta 2 is: -0.4567193695439459.\n",
      "Beta 3 is: 0.3558604941235533.\n",
      "Beta 4 is: -0.23962922586307644.\n",
      "Beta 5 is: -0.23168539926761442.\n",
      "P-value is: 0.4732378899257573\n",
      "\n"
     ]
    }
   ],
   "source": [
    "MultiFactorRegression(\"second\", 10)"
   ]
  },
  {
   "cell_type": "code",
   "execution_count": 195,
   "id": "838b13bc-4f06-45e8-9f5a-de92beef4913",
   "metadata": {},
   "outputs": [
    {
     "data": {
      "image/png": "[encoded data removed]",
      "text/plain": [
       "<Figure size 640x480 with 1 Axes>"
      ]
     },
     "metadata": {},
     "output_type": "display_data"
    }
   ],
   "source": [
    "plt.hist([first_capm[\"Alpha\"], first_multifactor[\"Alpha\"]], color=['orange', 'blue'], bins=10,label=['Alpha from CAPM', 'Alpha from Multifactor'])\n",
    "plt.legend()\n",
    "plt.title(\"Alpha distribution from first half of dataset\")\n",
    "plt.show()"
   ]
  },
  {
   "cell_type": "code",
   "execution_count": 196,
   "id": "8fc59eaf-7354-4651-b4bc-b7e65170dbbf",
   "metadata": {},
   "outputs": [
    {
     "data": {
      "image/png": "[encoded data removed]",
      "text/plain": [
       "<Figure size 640x480 with 1 Axes>"
      ]
     },
     "metadata": {},
     "output_type": "display_data"
    }
   ],
   "source": [
    "plt.hist([second_capm[\"Alpha\"], second_multifactor[\"Alpha\"]], color=['orange', 'blue'], bins=10, label=['Alpha from CAPM', 'Alpha from Multifactor'])\n",
    "plt.legend()\n",
    "plt.title(\"Alpha distribution from second half of dataset\")\n",
    "plt.show()"
   ]
  },
  {
   "cell_type": "markdown",
   "id": "14a15f08-5b5e-47e7-a033-46261299b3d4",
   "metadata": {},
   "source": [
    "# Statistical Analysis"
   ]
  },
  {
   "cell_type": "code",
   "execution_count": 197,
   "id": "eaecb65a-0f4d-4f4c-be26-0385dee3f40a",
   "metadata": {},
   "outputs": [],
   "source": [
    "from scipy import stats\n",
    "import seaborn as sns\n",
    "%matplotlib inline"
   ]
  },
  {
   "cell_type": "code",
   "execution_count": 198,
   "id": "d7069f18-2c3c-435d-9228-87667cac71a2",
   "metadata": {},
   "outputs": [
    {
     "data": {
      "image/png": "[encoded data removed]",
      "text/plain": [
       "<Figure size 1500x1000 with 22 Axes>"
      ]
     },
     "metadata": {},
     "output_type": "display_data"
    }
   ],
   "source": [
    "fig, axes = plt.subplots(nrows=3, ncols=4, figsize=(15, 10))\n",
    "\n",
    "for i, ticker in enumerate(range(1, 13), start=1):\n",
    "    row_idx = (i - 1) // 4\n",
    "    col_idx = (i - 1) % 4\n",
    "    if i > 10:\n",
    "        axes[row_idx, col_idx].set_visible(False)\n",
    "        continue\n",
    "    ticker_str = f\"IntMom_{ticker:02}\"\n",
    "    corr_matrix = second_half[['Mkt-RF', 'SMB', 'HML', 'RMW', 'CMA', 'RF', ticker_str]].corr()\n",
    "    sns.heatmap(corr_matrix, ax=axes[row_idx, col_idx], annot=False, fmt='.2f', cbar=True)\n",
    "    axes[row_idx, col_idx].set_title(f'Correlation Heatmap for {ticker_str}')\n",
    "    \n",
    "plt.tight_layout()\n",
    "plt.show()"
   ]
  },
  {
   "cell_type": "code",
   "execution_count": 199,
   "id": "fd818d3d-b943-4907-aaf9-45f15826fe39",
   "metadata": {},
   "outputs": [
    {
     "data": {
      "text/plain": [
       "<Axes: >"
      ]
     },
     "execution_count": 199,
     "metadata": {},
     "output_type": "execute_result"
    },
    {
     "data": {
      "image/png": "[encoded data removed]",
      "text/plain": [
       "<Figure size 640x480 with 2 Axes>"
      ]
     },
     "metadata": {},
     "output_type": "display_data"
    }
   ],
   "source": [
    "sns.heatmap(first_half[['IntMom_01', 'IntMom_02', 'IntMom_03', 'IntMom_04', 'IntMom_05', 'IntMom_06', 'IntMom_07', 'IntMom_08', 'IntMom_09', 'IntMom_10']].corr())"
   ]
  },
  {
   "cell_type": "code",
   "execution_count": 200,
   "id": "99ba0c2d-606c-4a4e-83c7-350fffc0103b",
   "metadata": {},
   "outputs": [
    {
     "name": "stdout",
     "output_type": "stream",
     "text": [
      "The percentage of statistically significant alphas from the first CAPM model is 10.0%.\n"
     ]
    }
   ],
   "source": [
    "print(f\"The percentage of statistically significant alphas from the first CAPM model is {statistical_significance_CAPM['first']*100}%.\")"
   ]
  },
  {
   "cell_type": "code",
   "execution_count": 201,
   "id": "e7790bd8-c71c-4491-8d79-41f54c95be62",
   "metadata": {},
   "outputs": [
    {
     "name": "stdout",
     "output_type": "stream",
     "text": [
      "The percentage of statistically significant alphas from the second CAPM model is 10.0%.\n"
     ]
    }
   ],
   "source": [
    "print(f\"The percentage of statistically significant alphas from the second CAPM model is {statistical_significance_CAPM['second']*100}%.\")"
   ]
  },
  {
   "cell_type": "code",
   "execution_count": 202,
   "id": "52f0f34e-c36b-4b97-9a1c-df224362a297",
   "metadata": {},
   "outputs": [
    {
     "name": "stdout",
     "output_type": "stream",
     "text": [
      "The percentage of statistically significant alphas from the first MultiFactor model is 60.0%.\n"
     ]
    }
   ],
   "source": [
    "print(f\"The percentage of statistically significant alphas from the first MultiFactor model is {statistical_significance_MultiFactor['first']*100}%.\")"
   ]
  },
  {
   "cell_type": "code",
   "execution_count": 203,
   "id": "e686d166-80c5-47c5-a950-94df645dd904",
   "metadata": {},
   "outputs": [
    {
     "name": "stdout",
     "output_type": "stream",
     "text": [
      "The percentage of statistically significant alphas from the second MultiFactor model is 10.0%.\n"
     ]
    }
   ],
   "source": [
    "print(f\"The percentage of statistically significant alphas from the second MultiFactor model is {statistical_significance_MultiFactor['second']*100}%.\")"
   ]
  },
  {
   "cell_type": "markdown",
   "id": "72e594cb-35f9-4d12-936e-08fd3c1cb134",
   "metadata": {},
   "source": [
    "# Long-Short Portfolio Analysis"
   ]
  },
  {
   "cell_type": "code",
   "execution_count": 204,
   "id": "99f6f6a8-84fd-4074-a70a-ed356b013a54",
   "metadata": {},
   "outputs": [],
   "source": [
    "def LongShortPortfolio(highest_alpha_index, lowest_alpha_index, half):\n",
    "    if half == \"first\":\n",
    "        time_period = first_half\n",
    "        print(\"First Half: CAPM Regression\\n\")\n",
    "    elif half == \"second\":\n",
    "        time_period = second_half\n",
    "        print(\"Second Half: CAPM Regression\\n\")\n",
    "    else:\n",
    "        print('Please input half as \"first\" or \"second\"')\n",
    "        return\n",
    "    \n",
    "    if highest_alpha_index > 9:\n",
    "        long_position = time_period[f\"IntMom_{highest_alpha_index}\"]\n",
    "    else:\n",
    "        long_position = time_period[f\"IntMom_0{highest_alpha_index}\"]\n",
    "        \n",
    "    if lowest_alpha_index > 9:\n",
    "        short_position = time_period[f\"IntMom_{lowest_alpha_index}\"]\n",
    "    else:\n",
    "        short_position = time_period[f\"IntMom_0{lowest_alpha_index}\"]\n",
    "        \n",
    "    portfolio = long_position - short_position\n",
    "    \n",
    "    excess_returns = portfolio - time_period['RF']\n",
    "    market_premium = sm.add_constant(time_period['Mkt-RF'])\n",
    "\n",
    "    model = sm.OLS(excess_returns, market_premium).fit()\n",
    "\n",
    "    alpha, beta = model.params\n",
    "\n",
    "    p_values = model.pvalues.iloc[0]\n",
    "    \n",
    "    print(f\"The statistics for the long-short portfolio with a long position on Int Mom {highest_alpha_index} and short position on Int Mom {lowest_alpha_index} are:\\n\")\n",
    "    print(f\"Alpha: {alpha}\\nBeta: {beta}\\n\")\n",
    "    if p_values < 0.05:\n",
    "        print(f\"P-value: {p_values}\\nThe alpha is statistically significant.\")\n",
    "    else:\n",
    "        print(f\"P-value: {p_values}\\nThe alpha is not statistically significant.\")"
   ]
  },
  {
   "cell_type": "code",
   "execution_count": 205,
   "id": "1fb710da-293d-4f68-a725-296068db844d",
   "metadata": {},
   "outputs": [],
   "source": [
    "# First half\n",
    "first_half_highestcapm = (pd.DataFrame(first_capm['Alpha']).idxmax()).iloc[0] + 1 \n",
    "first_half_lowestcapm = (pd.DataFrame(first_capm['Alpha']).idxmin()).iloc[0] + 1"
   ]
  },
  {
   "cell_type": "code",
   "execution_count": 206,
   "id": "8d2dd93b-e625-4283-be14-9cf51d434c4a",
   "metadata": {},
   "outputs": [],
   "source": [
    "second_half_highestcapm = (pd.DataFrame(second_capm['Alpha']).idxmax()).iloc[0] + 1 \n",
    "second_half_lowestcapm = (pd.DataFrame(second_capm['Alpha']).idxmin()).iloc[0] + 1"
   ]
  },
  {
   "cell_type": "code",
   "execution_count": 207,
   "id": "e1b3665c-ea6d-4f14-8f8b-7d51e9f18196",
   "metadata": {},
   "outputs": [
    {
     "name": "stdout",
     "output_type": "stream",
     "text": [
      "First Half: CAPM Regression\n",
      "\n",
      "The statistics for the long-short portfolio with a long position on Int Mom 10 and short position on Int Mom 1 are:\n",
      "\n",
      "Alpha: 0.6532945873144074\n",
      "Beta: -0.007155982603522005\n",
      "\n",
      "P-value: 0.25556363299163615\n",
      "The alpha is not statistically significant.\n"
     ]
    }
   ],
   "source": [
    "LongShortPortfolio(first_half_highestcapm, first_half_lowestcapm, \"first\")"
   ]
  },
  {
   "cell_type": "code",
   "execution_count": 208,
   "id": "0faa9021-2c66-4a60-830a-8f1196a7769a",
   "metadata": {},
   "outputs": [
    {
     "name": "stdout",
     "output_type": "stream",
     "text": [
      "Second Half: CAPM Regression\n",
      "\n",
      "The statistics for the long-short portfolio with a long position on Int Mom 9 and short position on Int Mom 1 are:\n",
      "\n",
      "Alpha: 1.2090865592567162\n",
      "Beta: -0.655541220988229\n",
      "\n",
      "P-value: 0.0032614433174837833\n",
      "The alpha is statistically significant.\n"
     ]
    }
   ],
   "source": [
    "LongShortPortfolio(second_half_highestcapm, second_half_lowestcapm, \"second\")"
   ]
  },
  {
   "cell_type": "markdown",
   "id": "effeef0c-b162-43dd-bda9-75404762d3bd",
   "metadata": {},
   "source": [
    "# T-Stats Correlation"
   ]
  },
  {
   "cell_type": "code",
   "execution_count": 220,
   "id": "3a246a34-fe69-4296-9c58-4f30c23605d0",
   "metadata": {},
   "outputs": [
    {
     "name": "stdout",
     "output_type": "stream",
     "text": [
      "T-Stats Correlation for CAPM Model Pre-2005 and Post-2005:\n",
      "\n",
      "Alpha correlation: 59.0%\n",
      "Beta correlation: 77.0%\n"
     ]
    }
   ],
   "source": [
    "CAPM_Alpha_Correlation = np.corrcoef(first_capm[\"T_Alpha\"], second_capm[\"T_Alpha\"])[0,1]\n",
    "CAPM_Beta_Correlation = np.corrcoef(first_capm[\"T_Beta\"], second_capm[\"T_Beta\"])[0,1]\n",
    "\n",
    "print(\"T-Stats Correlation for CAPM Model Pre-2005 and Post-2005:\\n\")\n",
    "print(f\"Alpha correlation: {CAPM_Alpha_Correlation.round(2)*100}%\")\n",
    "print(f\"Beta correlation: {CAPM_Beta_Correlation.round(2)*100}%\")"
   ]
  },
  {
   "cell_type": "code",
   "execution_count": 224,
   "id": "18de05d1-b77e-4542-b0df-4dec329bea3a",
   "metadata": {},
   "outputs": [
    {
     "name": "stdout",
     "output_type": "stream",
     "text": [
      "T-Stats Correlation for Multi-Factor Model Pre-2005 and Post-2005:\n",
      "\n",
      "Alpha correlation: -13.0%\n",
      "Mkt-RF Beta correlation: 99.0%\n",
      "HML Beta correlation: 96.0%\n",
      "SMB Beta correlation: 70.0%\n",
      "RMW Beta correlation: 53.0%\n",
      "CMA Beta correlation: -26.0%\n"
     ]
    }
   ],
   "source": [
    "MultiFactor_Alpha_Correlation = np.corrcoef(first_multifactor[\"T_Alpha\"], second_multifactor[\"T_Alpha\"])[0,1]\n",
    "MultiFactor_Beta1_Correlation = np.corrcoef(first_multifactor[\"T_Beta1\"], second_multifactor[\"T_Beta1\"])[0,1]\n",
    "MultiFactor_Beta2_Correlation = np.corrcoef(first_multifactor[\"T_Beta2\"], second_multifactor[\"T_Beta2\"])[0,1]\n",
    "MultiFactor_Beta3_Correlation = np.corrcoef(first_multifactor[\"T_Beta3\"], second_multifactor[\"T_Beta3\"])[0,1]\n",
    "MultiFactor_Beta4_Correlation = np.corrcoef(first_multifactor[\"T_Beta4\"], second_multifactor[\"T_Beta4\"])[0,1]\n",
    "MultiFactor_Beta5_Correlation = np.corrcoef(first_multifactor[\"T_Beta5\"], second_multifactor[\"T_Beta5\"])[0,1]\n",
    "\n",
    "print(\"T-Stats Correlation for Multi-Factor Model Pre-2005 and Post-2005:\\n\")\n",
    "print(f\"Alpha correlation: {MultiFactor_Alpha_Correlation.round(2)*100}%\")\n",
    "print(f\"Mkt-RF Beta correlation: {MultiFactor_Beta1_Correlation.round(2)*100}%\")\n",
    "print(f\"HML Beta correlation: {MultiFactor_Beta2_Correlation.round(2)*100}%\")\n",
    "print(f\"SMB Beta correlation: {MultiFactor_Beta3_Correlation.round(2)*100}%\")\n",
    "print(f\"RMW Beta correlation: {MultiFactor_Beta4_Correlation.round(2)*100}%\")\n",
    "print(f\"CMA Beta correlation: {MultiFactor_Beta5_Correlation.round(2)*100}%\")"
   ]
  },
  {
   "cell_type": "code",
   "execution_count": 260,
   "id": "2d91cb7d-e426-4585-bf4b-cfc68dec76da",
   "metadata": {},
   "outputs": [
    {
     "data": {
      "text/plain": [
       "Index(['Date', 'IntMom_01', 'IntMom_02', 'IntMom_03', 'IntMom_04', 'IntMom_05',\n",
       "       'IntMom_06', 'IntMom_07', 'IntMom_08', 'IntMom_09', 'IntMom_10'],\n",
       "      dtype='object')"
      ]
     },
     "execution_count": 260,
     "metadata": {},
     "output_type": "execute_result"
    }
   ],
   "source": [
    "returns.columns"
   ]
  },
  {
   "cell_type": "code",
   "execution_count": 273,
   "id": "5f22c867-e3e2-4f52-b3ca-c6a681c23225",
   "metadata": {},
   "outputs": [
    {
     "name": "stdout",
     "output_type": "stream",
     "text": [
      "The returns for IntMom_01 before 2005 were 85.04609509189028%\n",
      "The returns for IntMom_01 after 2005 were 60.25264164174516%\n",
      "IntMom_01 was profitable both before and after 2005.\n",
      "\n",
      "The returns for IntMom_02 before 2005 were 129.87506865452653%\n",
      "The returns for IntMom_02 after 2005 were 190.7424181083397%\n",
      "IntMom_02 was profitable both before and after 2005.\n",
      "\n",
      "The returns for IntMom_03 before 2005 were 127.73499601771853%\n",
      "The returns for IntMom_03 after 2005 were 208.14027177607053%\n",
      "IntMom_03 was profitable both before and after 2005.\n",
      "\n",
      "The returns for IntMom_04 before 2005 were 97.06933911451115%\n",
      "The returns for IntMom_04 after 2005 were 199.93258783308428%\n",
      "IntMom_04 was profitable both before and after 2005.\n",
      "\n",
      "The returns for IntMom_05 before 2005 were 153.60207422386026%\n",
      "The returns for IntMom_05 after 2005 were 188.93527474235182%\n",
      "IntMom_05 was profitable both before and after 2005.\n",
      "\n",
      "The returns for IntMom_06 before 2005 were 143.45927103917023%\n",
      "The returns for IntMom_06 after 2005 were 205.17309572784015%\n",
      "IntMom_06 was profitable both before and after 2005.\n",
      "\n",
      "The returns for IntMom_07 before 2005 were 179.44924797139024%\n",
      "The returns for IntMom_07 after 2005 were 186.69785122590923%\n",
      "IntMom_07 was profitable both before and after 2005.\n",
      "\n",
      "The returns for IntMom_08 before 2005 were 193.86913754247945%\n",
      "The returns for IntMom_08 after 2005 were 195.98674565905023%\n",
      "IntMom_08 was profitable both before and after 2005.\n",
      "\n",
      "The returns for IntMom_09 before 2005 were 217.42700189168502%\n",
      "The returns for IntMom_09 after 2005 were 211.4474803931995%\n",
      "IntMom_09 was profitable both before and after 2005.\n",
      "\n",
      "The returns for IntMom_10 before 2005 were 263.32672047915065%\n",
      "The returns for IntMom_10 after 2005 were 198.43893675614981%\n",
      "IntMom_10 was profitable both before and after 2005.\n",
      "\n"
     ]
    }
   ],
   "source": [
    "for i in range(1, len(returns.columns)):\n",
    "    ticker = returns.columns[i]\n",
    "    \n",
    "    first_half_returns = sum(first_half[ticker])\n",
    "    second_half_returns = sum(second_half[ticker])\n",
    "    print(f\"The returns for {ticker} before 2005 were {first_half_returns}%\")\n",
    "    print(f\"The returns for {ticker} after 2005 were {second_half_returns}%\")\n",
    "    if first_half_returns > 0 and second_half_returns > 0:\n",
    "        print(f\"{ticker} was profitable both before and after 2005.\\n\")\n",
    "    elif first_half_returns > 0 and second_half_returns < 0:\n",
    "        print(f\"{ticker} was profitable before 2005 but not after.\\n\")\n",
    "    elif first_half_returns < 0 and second_half_returns > 0:\n",
    "        print(f\"{ticker} was profitable after 2005 but not before.\\n\")\n",
    "    else:\n",
    "        print(f\"{ticker} was not profitable before or after 2005.\\n\")"
   ]
  },
  {
   "cell_type": "code",
   "execution_count": 285,
   "id": "1140a427-3825-409c-8431-cbed449f9991",
   "metadata": {},
   "outputs": [
    {
     "name": "stdout",
     "output_type": "stream",
     "text": [
      "The returns for the first long-short portfolio before 2005 were 178.28062538726041%\n",
      "The returns for the first long-short portfolio after 2005 were 138.18629511440463%\n",
      "The long-short portfolio was profitable both before and after 2005.\n",
      "\n"
     ]
    }
   ],
   "source": [
    "Long_Position_First_Portfolio = returns.columns[first_half_highestcapm]\n",
    "Short_Position_First_Portfolio = returns.columns[first_half_lowestcapm]\n",
    "first_half_returns = sum(first_half[Long_Position_First_Portfolio] - first_half[Short_Position_First_Portfolio])\n",
    "second_half_returns = sum(second_half[Long_Position_First_Portfolio] - second_half[Short_Position_First_Portfolio])\n",
    "print(f\"The returns for the first long-short portfolio before 2005 were {first_half_returns}%\")\n",
    "print(f\"The returns for the first long-short portfolio after 2005 were {second_half_returns}%\")\n",
    "if first_half_returns > 0 and second_half_returns > 0:\n",
    "    print(f\"The long-short portfolio was profitable both before and after 2005.\\n\")\n",
    "elif first_half_returns > 0 and second_half_returns < 0:\n",
    "    print(f\"The long-short portfolio was profitable before 2005 but not after.\\n\")\n",
    "elif first_half_returns < 0 and second_half_returns > 0:\n",
    "    print(f\"The long-short portfolio was profitable after 2005 but not before.\\n\")\n",
    "else:\n",
    "    print(f\"The long-short portfolio was not profitable before or after 2005.\\n\")"
   ]
  },
  {
   "cell_type": "code",
   "execution_count": 287,
   "id": "7c5d82a3-4e55-4431-9fe7-ca9026c6f7d0",
   "metadata": {},
   "outputs": [
    {
     "name": "stdout",
     "output_type": "stream",
     "text": [
      "The returns for the second long-short portfolio before 2005 were 132.38090679979473%\n",
      "The returns for the second long-short portfolio after 2005 were 151.19483875145443%\n",
      "The long-short portfolio was profitable both before and after 2005.\n",
      "\n"
     ]
    }
   ],
   "source": [
    "Long_Position_Second_Portfolio = returns.columns[second_half_highestcapm]\n",
    "Short_Position_Second_Portfolio = returns.columns[second_half_lowestcapm]\n",
    "first_half_returns = sum(first_half[Long_Position_Second_Portfolio] - first_half[Short_Position_Second_Portfolio])\n",
    "second_half_returns = sum(second_half[Long_Position_Second_Portfolio] - second_half[Short_Position_Second_Portfolio])\n",
    "print(f\"The returns for the second long-short portfolio before 2005 were {first_half_returns}%\")\n",
    "print(f\"The returns for the second long-short portfolio after 2005 were {second_half_returns}%\")\n",
    "if first_half_returns > 0 and second_half_returns > 0:\n",
    "    print(f\"The long-short portfolio was profitable both before and after 2005.\\n\")\n",
    "elif first_half_returns > 0 and second_half_returns < 0:\n",
    "    print(f\"The long-short portfolio was profitable before 2005 but not after.\\n\")\n",
    "elif first_half_returns < 0 and second_half_returns > 0:\n",
    "    print(f\"The long-short portfolio was profitable after 2005 but not before.\\n\")\n",
    "else:\n",
    "    print(f\"The long-short portfolio was not profitable before or after 2005.\\n\")"
   ]
  },
  {
   "cell_type": "markdown",
   "id": "60dbf10e-4588-4363-a58a-0e64e922b24b",
   "metadata": {},
   "source": [
    "# Mean Variance Frontier"
   ]
  },
  {
   "cell_type": "code",
   "execution_count": 363,
   "id": "fdb665b6-cb4c-4dfd-a72d-4f7434fb2756",
   "metadata": {},
   "outputs": [],
   "source": [
    "from scipy.optimize import minimize"
   ]
  },
  {
   "cell_type": "code",
   "execution_count": 364,
   "id": "e0bf0653-a518-4ed7-af70-031131e7a8c3",
   "metadata": {},
   "outputs": [],
   "source": [
    "for i in range(1, len(returns.columns)):\n",
    "    ticker = returns.columns[i]\n",
    "    first_half_returns = pd.DataFrame(first_half[ticker])\n",
    "    first_half_excess_returns = sum(first_half[ticker] - first_half['RF'])"
   ]
  },
  {
   "cell_type": "code",
   "execution_count": 365,
   "id": "5ee22400-995d-4a10-ba92-bb317e43d87b",
   "metadata": {},
   "outputs": [],
   "source": [
    "mu = first_half_returns.mean()\n",
    "S = first_half_returns.cov()"
   ]
  },
  {
   "cell_type": "code",
   "execution_count": 366,
   "id": "5d757f18-e5e9-4f4d-8c6e-30d2ba176094",
   "metadata": {},
   "outputs": [],
   "source": [
    "def objective(weights):\n",
    "    portfolio_return = np.dot(weights, mu)\n",
    "    portfolio_volatility = np.sqrt(np.dot(weights.T, np.dot(S, weights)))\n",
    "    sharpe_ratio = first_half_excess_returns / portfolio_volatility\n",
    "    return -sharpe_ratio"
   ]
  },
  {
   "cell_type": "code",
   "execution_count": 367,
   "id": "f882bba4-8835-4b0f-8b07-670b19bd6350",
   "metadata": {},
   "outputs": [],
   "source": [
    "constraints = ({'type': 'eq', 'fun': lambda x: np.sum(x) - 1})\n",
    "bounds = tuple((0, 1) for _ in range(len(mu)))\n",
    "initial_weights = np.array(len(mu) * [1. / len(mu)])\n",
    "opt_results = minimize(objective, initial_weights, method='SLSQP', bounds=bounds, constraints=constraints)\n",
    "optimized_weights = opt_results.x"
   ]
  },
  {
   "cell_type": "code",
   "execution_count": 368,
   "id": "09932332-205b-4436-b69f-64ae837f8a34",
   "metadata": {},
   "outputs": [],
   "source": [
    "expected_return = np.dot(optimized_weights, mu)\n",
    "portfolio_variance = np.dot(optimized_weights.T, np.dot(S, optimized_weights))\n",
    "sharpe_ratio = expected_return / np.sqrt(portfolio_variance)"
   ]
  },
  {
   "cell_type": "code",
   "execution_count": 369,
   "id": "3a34f2c0-155a-4133-8845-6a319c18e469",
   "metadata": {},
   "outputs": [
    {
     "name": "stdout",
     "output_type": "stream",
     "text": [
      "Expected Excess Return: 146.29262248841707%\n",
      "Portfolio Variance: 62.9725626018358\n",
      "Sharpe Ratio: 0.18435152811102257\n"
     ]
    }
   ],
   "source": [
    "print(f\"Expected Excess Return: {expected_return*100}%\")\n",
    "print(f\"Portfolio Variance: {portfolio_variance}\")\n",
    "print(f\"Sharpe Ratio: {sharpe_ratio}\")"
   ]
  },
  {
   "cell_type": "markdown",
   "id": "d440beb5-a4ba-4ed5-ba37-66c32b7f6abd",
   "metadata": {},
   "source": [
    "# Post-2005 Performance"
   ]
  },
  {
   "cell_type": "code",
   "execution_count": 370,
   "id": "21644d8b-efe4-449c-a44f-0cda47316d64",
   "metadata": {},
   "outputs": [],
   "source": [
    "for i in range(1, len(returns.columns)):\n",
    "    ticker = returns.columns[i]\n",
    "    second_half_returns = pd.DataFrame(second_half[ticker])\n",
    "    second_half_excess_returns = sum(second_half[ticker] - second_half['RF'])"
   ]
  },
  {
   "cell_type": "code",
   "execution_count": 371,
   "id": "1105d1c5-e55f-45ff-9410-e358be3ca247",
   "metadata": {},
   "outputs": [],
   "source": [
    "mu = second_half_returns.mean()\n",
    "portfolio_return = np.dot(initial_weights, mu)\n",
    "weighted_returns = second_half_returns.dot(optimized_weights)\n",
    "actual_return = weighted_returns.mean()\n",
    "portfolio_variance = np.dot(optimized_weights.T, np.dot(second_half_returns.cov(), optimized_weights))\n",
    "portfolio_std_dev = np.sqrt(portfolio_variance)\n",
    "sharpe_ratio = second_half_excess_returns / portfolio_std_dev"
   ]
  },
  {
   "cell_type": "code",
   "execution_count": 372,
   "id": "4c0d47e9-789a-4b5c-b048-75ea0f9cbf58",
   "metadata": {},
   "outputs": [
    {
     "name": "stdout",
     "output_type": "stream",
     "text": [
      "Actual Return (Post-2005): 97.27398860595582%\n",
      "Portfolio Variance (Post-2005): 40.38538076882199\n",
      "Sharpe Ratio (Post-2005): 28.155840109456726\n"
     ]
    }
   ],
   "source": [
    "print(f\"Actual Return (Post-2005): {actual_return*100}%\")\n",
    "print(f\"Portfolio Variance (Post-2005): {portfolio_variance}\")\n",
    "print(f\"Sharpe Ratio (Post-2005): {sharpe_ratio}\")"
   ]
  },
  {
   "cell_type": "code",
   "execution_count": null,
   "id": "f335e9c8-0186-4693-b4a9-b33a38e84b98",
   "metadata": {},
   "outputs": [],
   "source": []
  }
 ],
 "metadata": {
  "kernelspec": {
   "display_name": "Python 3 (ipykernel)",
   "language": "python",
   "name": "python3"
  },
  "language_info": {
   "codemirror_mode": {
    "name": "ipython",
    "version": 3
   },
   "file_extension": ".py",
   "mimetype": "text/x-python",
   "name": "python",
   "nbconvert_exporter": "python",
   "pygments_lexer": "ipython3",
   "version": "3.11.5"
  }
 },
 "nbformat": 4,
 "nbformat_minor": 5
}
